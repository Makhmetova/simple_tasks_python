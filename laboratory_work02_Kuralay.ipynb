{
 "cells": [
  {
   "cell_type": "markdown",
   "id": "a56cf6ab",
   "metadata": {},
   "source": [
    "# Laboratory work #2,  Kuralay Makhmetova, id: 26207"
   ]
  },
  {
   "cell_type": "markdown",
   "id": "139339a2",
   "metadata": {},
   "source": [
    "# Task 1"
   ]
  },
  {
   "cell_type": "code",
   "execution_count": 1,
   "id": "7ae6c56d",
   "metadata": {},
   "outputs": [
    {
     "name": "stdout",
     "output_type": "stream",
     "text": [
      "array[0]: 2, 4, 6\n",
      "          8, 10, 12\n",
      "          14, 16, 18\n",
      "array[1]: 9, 8, 7\n",
      "          6, 5, 4\n",
      "          3, 2, 1\n"
     ]
    }
   ],
   "source": [
    "import pandas as pd #importing pandas library as pd\n",
    "import numpy as np #importing numpy library as np\n",
    "#creating the list of 3 by 3 matrixes\n",
    "arr = [[2, 4, 6, 8, 10, 12, 14, 16, 18], [9, 8, 7, 6, 5, 4, 3, 2, 1]]\n",
    "\n",
    "# convert to 3D list in-place\n",
    "for i, data in enumerate(arr):\n",
    "    arr[i] = [[data[0], data[1], data[2]],\n",
    "               [data[3], data[4], data[5]],\n",
    "               [data[6], data[7], data[8]]]\n",
    "\n",
    "# utility for print a 3x3 matrix         \n",
    "def formatrix(label, matrix):\n",
    "    indent = len(label)\n",
    "    return '\\n'.join((label + ', '.join(map(str, matrix[0])),\n",
    "                      indent*' ' + ', '.join(map(str, matrix[1])),\n",
    "                      indent*' ' + ', '.join(map(str, matrix[2]))))\n",
    "\n",
    "# print each matrix in reformatted list\n",
    "for i, matrix in enumerate(arr):\n",
    "    print(formatrix('array[%s]: ' % i, matrix))"
   ]
  },
  {
   "cell_type": "code",
   "execution_count": 2,
   "id": "b1eab1a7",
   "metadata": {},
   "outputs": [
    {
     "data": {
      "text/plain": [
       "array([[18, 32, 42],\n",
       "       [48, 50, 48],\n",
       "       [42, 32, 18]])"
      ]
     },
     "execution_count": 2,
     "metadata": {},
     "output_type": "execute_result"
    }
   ],
   "source": [
    "np.multiply(arr[0],arr[1]) #multiplying this matrixes"
   ]
  },
  {
   "cell_type": "markdown",
   "id": "c6586d04",
   "metadata": {},
   "source": [
    "# Task 2"
   ]
  },
  {
   "cell_type": "code",
   "execution_count": 3,
   "id": "0cb5ff70",
   "metadata": {},
   "outputs": [
    {
     "name": "stdout",
     "output_type": "stream",
     "text": [
      "[[ 2  3  5  7 11]\n",
      " [13 17 19 23 29]]\n"
     ]
    }
   ],
   "source": [
    "arr1 = [2, 3, 5, 7, 11] # the list of first array\n",
    "arr2 = [13, 17, 19, 23, 29] # the list of second array\n",
    "\n",
    "arr3 = np.array([arr1, arr2]) # the formation of 2 by 2 array\n",
    "\n",
    "print(arr3) # print the formated array "
   ]
  },
  {
   "cell_type": "markdown",
   "id": "d7c20a5b",
   "metadata": {},
   "source": [
    "# Task 3"
   ]
  },
  {
   "cell_type": "code",
   "execution_count": 4,
   "id": "1d17103f",
   "metadata": {},
   "outputs": [
    {
     "name": "stdout",
     "output_type": "stream",
     "text": [
      "[[  32   64  128]\n",
      " [ 256  512 1024]]\n"
     ]
    }
   ],
   "source": [
    "arr = [[32,64,128], [256,512,1024]] #the list of array containing the first six powers of 2 beginning with 20\n",
    "arr = np.array(arr) #the the formation of array\n",
    "print (arr.reshape((2, 3))) # print of the 2 by 3 array "
   ]
  },
  {
   "cell_type": "code",
   "execution_count": 5,
   "id": "83668aa1",
   "metadata": {},
   "outputs": [
    {
     "name": "stdout",
     "output_type": "stream",
     "text": [
      "[  32   64  128  256  512 1024]\n",
      "[  32   64  128  256  512 1024]\n"
     ]
    }
   ],
   "source": [
    "print( arr.flatten() ) # the method of flatten\n",
    "print ( arr.ravel() ) # the method of ravel"
   ]
  },
  {
   "cell_type": "markdown",
   "id": "ed9ec27e",
   "metadata": {},
   "source": [
    "# Task 4"
   ]
  },
  {
   "cell_type": "code",
   "execution_count": 6,
   "id": "7a5cbb62",
   "metadata": {},
   "outputs": [
    {
     "name": "stdout",
     "output_type": "stream",
     "text": [
      "[[ 1  2  3  4  5]\n",
      " [ 6  7  8  9 10]\n",
      " [11 12 13 14 15]]\n"
     ]
    }
   ],
   "source": [
    "arr = [1, 2, 3, 4, 5, 6, 7, 8, 9, 10, 11, 12, 13, 14, 15] #creating an array containing the values 1–15\n",
    "arr1 = np.reshape(arr, (3, 5)) # # print of the 3 by 5 array \n",
    "print(arr1) # print of the 3 by 5 array "
   ]
  },
  {
   "cell_type": "code",
   "execution_count": 7,
   "id": "22a435cc",
   "metadata": {},
   "outputs": [
    {
     "name": "stdout",
     "output_type": "stream",
     "text": [
      "[ 6  7  8  9 10]\n"
     ]
    }
   ],
   "source": [
    "#A Select row 2\n",
    "print(arr1[1,:])"
   ]
  },
  {
   "cell_type": "code",
   "execution_count": 8,
   "id": "8e45d857",
   "metadata": {},
   "outputs": [
    {
     "name": "stdout",
     "output_type": "stream",
     "text": [
      "[ 5 10 15]\n"
     ]
    }
   ],
   "source": [
    "#B Select column 5\n",
    "print(arr1[:,4])"
   ]
  },
  {
   "cell_type": "code",
   "execution_count": 9,
   "id": "f03d715f",
   "metadata": {},
   "outputs": [
    {
     "name": "stdout",
     "output_type": "stream",
     "text": [
      "[[ 1  2  3  4  5]\n",
      " [ 6  7  8  9 10]]\n"
     ]
    }
   ],
   "source": [
    "#C Select rows 0 and 1\n",
    "print(arr1[0:2])"
   ]
  },
  {
   "cell_type": "code",
   "execution_count": 10,
   "id": "7ce15ded",
   "metadata": {},
   "outputs": [
    {
     "name": "stdout",
     "output_type": "stream",
     "text": [
      "[[ 2  3  4]\n",
      " [ 7  8  9]\n",
      " [12 13 14]]\n"
     ]
    }
   ],
   "source": [
    "#D Select columns 2–4\n",
    "print(arr1[:,[1,2,3]])"
   ]
  },
  {
   "cell_type": "code",
   "execution_count": 11,
   "id": "eebdcd2b",
   "metadata": {},
   "outputs": [
    {
     "name": "stdout",
     "output_type": "stream",
     "text": [
      "4\n"
     ]
    }
   ],
   "source": [
    "#E Select the element that is in row 1 and column 4\n",
    "print(arr1[0][3])"
   ]
  },
  {
   "cell_type": "code",
   "execution_count": 12,
   "id": "5683700e",
   "metadata": {},
   "outputs": [
    {
     "name": "stdout",
     "output_type": "stream",
     "text": [
      "[[1 3 4]\n",
      " [6 8 9]]\n"
     ]
    }
   ],
   "source": [
    "#F Select all elements from rows 1 and 2 that are in columns 0, 2 and\n",
    "print(arr1[:2,[0,2,3]])"
   ]
  },
  {
   "cell_type": "markdown",
   "id": "f6b6f01b",
   "metadata": {},
   "source": [
    "# Task 5"
   ]
  },
  {
   "cell_type": "code",
   "execution_count": 13,
   "id": "250cc0e8",
   "metadata": {},
   "outputs": [
    {
     "name": "stdout",
     "output_type": "stream",
     "text": [
      "[[0 1 2 3]\n",
      " [4 5 6 7]]\n"
     ]
    }
   ],
   "source": [
    "arr1 = np.array([[0, 1], [2, 3]]) #the the formation of first array\n",
    "arr2 = np.array([[4, 5], [6, 7]]) #the the formation of second array\n",
    "\n",
    "#A Use vertical stacking to create the 4-by-2 array named array3 with array1 stacked on top of array2\n",
    "arr3 = np.vstack((arr1.flatten(), arr2.flatten()))\n",
    "print(arr3)"
   ]
  },
  {
   "cell_type": "code",
   "execution_count": 14,
   "id": "19310304",
   "metadata": {},
   "outputs": [
    {
     "name": "stdout",
     "output_type": "stream",
     "text": [
      "[[0 1 4 5]\n",
      " [2 3 6 7]]\n"
     ]
    }
   ],
   "source": [
    "#B Use horizontal stacking to create the 2-by-4 array named array4 with array2 to the right of array1\n",
    "arr4 = np.hstack((arr1, arr2))\n",
    "print(arr4)"
   ]
  },
  {
   "cell_type": "code",
   "execution_count": 15,
   "id": "e1c5dc56",
   "metadata": {},
   "outputs": [
    {
     "name": "stdout",
     "output_type": "stream",
     "text": [
      "[[0 1 4 5]\n",
      " [2 3 6 7]\n",
      " [0 1 4 5]\n",
      " [2 3 6 7]]\n"
     ]
    }
   ],
   "source": [
    "#C Use vertical stacking with two copies of array4 to create a 4-by-4 array5.\n",
    "arr5 = np.vstack((arr4, arr4))\n",
    "print(arr5)"
   ]
  },
  {
   "cell_type": "code",
   "execution_count": 16,
   "id": "cf4d1454",
   "metadata": {},
   "outputs": [
    {
     "name": "stdout",
     "output_type": "stream",
     "text": [
      "[[0 1 2 3 0 1 2 3]\n",
      " [4 5 6 7 4 5 6 7]]\n"
     ]
    }
   ],
   "source": [
    "#D Use horizontal stacking with two copies of array3 to create a 4-by-4 array6.\n",
    "arr6 = np.hstack((arr3, arr3))\n",
    "print(arr6)"
   ]
  },
  {
   "cell_type": "markdown",
   "id": "cb04740c",
   "metadata": {},
   "source": [
    "# Task 6 "
   ]
  },
  {
   "cell_type": "code",
   "execution_count": 17,
   "id": "c0c8603d",
   "metadata": {},
   "outputs": [
    {
     "name": "stdout",
     "output_type": "stream",
     "text": [
      "0     7\n",
      "1    11\n",
      "2    13\n",
      "3    17\n",
      "dtype: int64\n"
     ]
    }
   ],
   "source": [
    "# A Createa Series from the list [7,11,13,17]\n",
    "series = pd.Series([7, 11, 13, 17])\n",
    "print(series)"
   ]
  },
  {
   "cell_type": "code",
   "execution_count": 18,
   "id": "7cd07ff0",
   "metadata": {},
   "outputs": [
    {
     "name": "stdout",
     "output_type": "stream",
     "text": [
      "0    100.0\n",
      "1    100.0\n",
      "2    100.0\n",
      "3    100.0\n",
      "4    100.0\n",
      "dtype: float64\n"
     ]
    }
   ],
   "source": [
    "# B Create a Series with five elements that are all 100.0\n",
    "series1 = pd.Series([100.0, 100.0, 100.0, 100.0, 100.0])\n",
    "print(series1)"
   ]
  },
  {
   "cell_type": "code",
   "execution_count": 19,
   "id": "ee264913",
   "metadata": {},
   "outputs": [
    {
     "data": {
      "text/plain": [
       "98.6       Julie\n",
       "98.9     Charlie\n",
       "100.2        Sam\n",
       "97.9      Andrea\n",
       "dtype: object"
      ]
     },
     "execution_count": 19,
     "metadata": {},
     "output_type": "execute_result"
    }
   ],
   "source": [
    "#D Create a Series called temperatures of the floating-point values 98.6,98.9,100.2 and 97.9. Using the index keyword argument, specify the custom indices 'Julie','Charlie', 'Sam' and 'Andrea'\n",
    "temperatures = pd.Series(['98.6', '98.9', '100.2', '97.9'])\n",
    "series = ['Julie','Charlie', 'Sam', 'Andrea']\n",
    "pd.Series(series, index=temperatures)"
   ]
  },
  {
   "cell_type": "code",
   "execution_count": 20,
   "id": "1124f31e",
   "metadata": {},
   "outputs": [
    {
     "name": "stdout",
     "output_type": "stream",
     "text": [
      "Series([], dtype: float64)\n"
     ]
    },
    {
     "name": "stderr",
     "output_type": "stream",
     "text": [
      "<ipython-input-20-dd8aa6008447>:2: DeprecationWarning: The default dtype for empty Series will be 'object' instead of 'float64' in a future version. Specify a dtype explicitly to silence this warning.\n",
      "  series2 = pd.Series()\n"
     ]
    }
   ],
   "source": [
    "#E Form a dictionary from the names and values in Part (d), then use it to initialize a Series\n",
    "series2 = pd.Series()\n",
    "print(series2)"
   ]
  },
  {
   "cell_type": "markdown",
   "id": "aff9553e",
   "metadata": {},
   "source": [
    "# Task 7 \n"
   ]
  },
  {
   "cell_type": "code",
   "execution_count": 21,
   "id": "92d50e84",
   "metadata": {},
   "outputs": [
    {
     "name": "stdout",
     "output_type": "stream",
     "text": [
      "0     98.6\n",
      "1     98.9\n",
      "2    100.2\n",
      "3     97.9\n",
      "dtype: object\n"
     ]
    }
   ],
   "source": [
    "#A Create a DataFrame named temperatures from a dictionary of three temperature readings each for 'Maxine', 'James' and 'Amanda'\n",
    "temperatures1 = pd.Series(['Maxine', 'James', 'Amanda'])\n",
    "print(temperatures)"
   ]
  },
  {
   "cell_type": "code",
   "execution_count": 22,
   "id": "5e21d9cd",
   "metadata": {},
   "outputs": [
    {
     "data": {
      "text/plain": [
       "Maxine      Morning\n",
       "James     Afternoon\n",
       "Amanda      Evening\n",
       "dtype: object"
      ]
     },
     "execution_count": 22,
     "metadata": {},
     "output_type": "execute_result"
    }
   ],
   "source": [
    "#B Recreate the DataFrame temperatures in Part (a) with custom indices using the index keyword argument and a list containing 'Morning', 'Afternoon' and 'Evening'\n",
    "series3 = ['Morning', 'Afternoon', 'Evening']\n",
    "pd.Series(series3, index=temperatures1)"
   ]
  },
  {
   "cell_type": "code",
   "execution_count": 23,
   "id": "d8bfcb30",
   "metadata": {},
   "outputs": [
    {
     "data": {
      "text/plain": [
       "'Maxine'"
      ]
     },
     "execution_count": 23,
     "metadata": {},
     "output_type": "execute_result"
    }
   ],
   "source": [
    "#C Select from temperatures the column of temperature readings for 'Maxine'\n",
    "temperatures1[0]"
   ]
  },
  {
   "cell_type": "code",
   "execution_count": 24,
   "id": "93f16ad6",
   "metadata": {},
   "outputs": [
    {
     "data": {
      "text/plain": [
       "'Morning'"
      ]
     },
     "execution_count": 24,
     "metadata": {},
     "output_type": "execute_result"
    }
   ],
   "source": [
    "#D Select from temperatures the row of 'Morning' temperature readings\n",
    "series3[0]"
   ]
  },
  {
   "cell_type": "code",
   "execution_count": 25,
   "id": "306ca0b2",
   "metadata": {},
   "outputs": [
    {
     "name": "stdout",
     "output_type": "stream",
     "text": [
      "Morning\n",
      "Evening\n"
     ]
    }
   ],
   "source": [
    "#E Select from temperatures the rows for 'Morning' and 'Evening' temperature readings.\n",
    "print(series3[0])\n",
    "print(series3[2])"
   ]
  },
  {
   "cell_type": "code",
   "execution_count": 26,
   "id": "eece9111",
   "metadata": {},
   "outputs": [
    {
     "name": "stdout",
     "output_type": "stream",
     "text": [
      "Maxine\n",
      "Amanda\n"
     ]
    }
   ],
   "source": [
    "#F Select from temperatures the columns of temperature readings for 'Amanda' and 'Maxine'\n",
    "print(temperatures1[0])\n",
    "print(temperatures1[2])"
   ]
  },
  {
   "cell_type": "code",
   "execution_count": 27,
   "id": "419d8d9e",
   "metadata": {},
   "outputs": [
    {
     "name": "stdout",
     "output_type": "stream",
     "text": [
      "Morning\n",
      "Evening\n",
      "Maxine\n",
      "Amanda\n"
     ]
    }
   ],
   "source": [
    "#G Select from temperatures the elements for 'Amanda' and 'Maxine' in the 'Morning' and 'Afternoon'\n",
    "print(series3[0])\n",
    "print(series3[2])\n",
    "print(temperatures1[0])\n",
    "print(temperatures1[2])"
   ]
  },
  {
   "cell_type": "code",
   "execution_count": 28,
   "id": "223077c9",
   "metadata": {},
   "outputs": [
    {
     "data": {
      "text/plain": [
       "count          3\n",
       "unique         3\n",
       "top       Maxine\n",
       "freq           1\n",
       "dtype: object"
      ]
     },
     "execution_count": 28,
     "metadata": {},
     "output_type": "execute_result"
    }
   ],
   "source": [
    "#H Use the describe method to produce temperatures’ descriptive statistics\n",
    "temperatures1.describe()"
   ]
  },
  {
   "cell_type": "code",
   "execution_count": 29,
   "id": "854c91db",
   "metadata": {},
   "outputs": [
    {
     "data": {
      "text/plain": [
       "0    Maxine\n",
       "1     James\n",
       "2    Amanda\n",
       "dtype: object"
      ]
     },
     "execution_count": 29,
     "metadata": {},
     "output_type": "execute_result"
    }
   ],
   "source": [
    "#I Transpose temperatures\n",
    "np.transpose(temperatures1)"
   ]
  },
  {
   "cell_type": "code",
   "execution_count": 30,
   "id": "6b892ecd",
   "metadata": {},
   "outputs": [
    {
     "name": "stdout",
     "output_type": "stream",
     "text": [
      "['Amanda', 'James', 'Maxine']\n"
     ]
    }
   ],
   "source": [
    "#J Sort temperatures so that its column names are in alphabetical order\n",
    "sorted_list = sorted(temperatures1)\n",
    "print(sorted_list)"
   ]
  },
  {
   "cell_type": "code",
   "execution_count": null,
   "id": "d6d21722",
   "metadata": {},
   "outputs": [],
   "source": []
  }
 ],
 "metadata": {
  "kernelspec": {
   "display_name": "Python 3",
   "language": "python",
   "name": "python3"
  },
  "language_info": {
   "codemirror_mode": {
    "name": "ipython",
    "version": 3
   },
   "file_extension": ".py",
   "mimetype": "text/x-python",
   "name": "python",
   "nbconvert_exporter": "python",
   "pygments_lexer": "ipython3",
   "version": "3.8.8"
  }
 },
 "nbformat": 4,
 "nbformat_minor": 5
}
