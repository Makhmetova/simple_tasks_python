{
 "cells": [
  {
   "cell_type": "markdown",
   "metadata": {},
   "source": [
    "# Laboratory work #1,  Kuralay Makhmetova, id: 26207"
   ]
  },
  {
   "cell_type": "markdown",
   "metadata": {},
   "source": [
    "# Task 1"
   ]
  },
  {
   "cell_type": "code",
   "execution_count": 1,
   "metadata": {},
   "outputs": [
    {
     "name": "stdout",
     "output_type": "stream",
     "text": [
      "23.444444444444443\n"
     ]
    }
   ],
   "source": [
    "import numpy #importing numpy library \n",
    "\n",
    "values = [9, 11, 22, 34, 17, 22, 34, 22, 40] #the values of task\n",
    "mean = numpy.mean(values) #calculating the mean with mean() method\n",
    "print(mean) #printing the mean"
   ]
  },
  {
   "cell_type": "code",
   "execution_count": 2,
   "metadata": {},
   "outputs": [
    {
     "name": "stdout",
     "output_type": "stream",
     "text": [
      "22.0\n"
     ]
    }
   ],
   "source": [
    "median = numpy.median(values) #calculating the median with median() method\n",
    "print(median) #printing the median"
   ]
  },
  {
   "cell_type": "code",
   "execution_count": 3,
   "metadata": {},
   "outputs": [
    {
     "name": "stdout",
     "output_type": "stream",
     "text": [
      "ModeResult(mode=array([22]), count=array([3]))\n"
     ]
    }
   ],
   "source": [
    "from scipy import stats #importing the stats from scipy\n",
    "\n",
    "mode = stats.mode(values) #calculating the mode with mode() method\n",
    "print(mode) #printing the mode"
   ]
  },
  {
   "cell_type": "code",
   "execution_count": 4,
   "metadata": {},
   "outputs": [
    {
     "name": "stdout",
     "output_type": "stream",
     "text": [
      "24.5\n"
     ]
    }
   ],
   "source": [
    "# Suppose the values included another 34. What problem might occur?\n",
    "values = [9, 11, 22, 34, 17, 22, 34, 22, 40, 34] #the new values with another 34\n",
    "\n",
    "mean = numpy.mean(values) #calculating the mean with mean() method\n",
    "print(mean) #printing the mean"
   ]
  },
  {
   "cell_type": "code",
   "execution_count": 5,
   "metadata": {},
   "outputs": [
    {
     "name": "stdout",
     "output_type": "stream",
     "text": [
      "22.0\n",
      "ModeResult(mode=array([22]), count=array([3]))\n"
     ]
    }
   ],
   "source": [
    "median = numpy.median(values) #calculating the median with median() method\n",
    "print(median) #printing the median\n",
    "\n",
    "mode = stats.mode(values) #calculating the mode with mode() method\n",
    "print(mode) #printing the mode"
   ]
  },
  {
   "cell_type": "markdown",
   "metadata": {},
   "source": [
    "### The mean changed, because I added another 34. The median didn't change, because median value is 22. The mode didn't change, because the mode() method returns a ModeResult object that contains the mode number (22), and count (how many times the mode number appeared (3)"
   ]
  },
  {
   "cell_type": "markdown",
   "metadata": {},
   "source": [
    "# Task 2"
   ]
  },
  {
   "cell_type": "code",
   "execution_count": 6,
   "metadata": {},
   "outputs": [
    {
     "name": "stdout",
     "output_type": "stream",
     "text": [
      "2\n",
      "6\n",
      "24\n",
      "120\n"
     ]
    }
   ],
   "source": [
    "#calculating the product of a series of integers that are passed to the function product, \n",
    "#which receives an arbitrary argument list\n",
    "def product(*args):\n",
    "    if len(args) == 1:\n",
    "        return args[0]\n",
    "    else:\n",
    "        return args[-1] * product(*args[:-1])\n",
    "    \n",
    "#the function calls\n",
    "print(product(1,2))\n",
    "print(product(1,2,3))\n",
    "print(product(1,2,3,4))\n",
    "print(product(1,2,3,4,5))"
   ]
  },
  {
   "cell_type": "markdown",
   "metadata": {},
   "source": [
    "# Task 3"
   ]
  },
  {
   "cell_type": "code",
   "execution_count": 7,
   "metadata": {},
   "outputs": [
    {
     "name": "stdout",
     "output_type": "stream",
     "text": [
      "0 \t 32.0\n",
      "1 \t 33.8\n",
      "2 \t 35.6\n",
      "3 \t 37.4\n",
      "4 \t 39.2\n",
      "5 \t 41.0\n",
      "6 \t 42.8\n",
      "7 \t 44.6\n",
      "8 \t 46.4\n",
      "9 \t 48.2\n",
      "10 \t 50.0\n",
      "11 \t 51.8\n",
      "12 \t 53.6\n",
      "13 \t 55.400000000000006\n",
      "14 \t 57.2\n",
      "15 \t 59.0\n",
      "16 \t 60.8\n",
      "17 \t 62.6\n",
      "18 \t 64.4\n",
      "19 \t 66.2\n",
      "20 \t 68.0\n",
      "21 \t 69.80000000000001\n",
      "22 \t 71.6\n",
      "23 \t 73.4\n",
      "24 \t 75.2\n",
      "25 \t 77.0\n",
      "26 \t 78.80000000000001\n",
      "27 \t 80.6\n",
      "28 \t 82.4\n",
      "29 \t 84.2\n",
      "30 \t 86.0\n",
      "31 \t 87.80000000000001\n",
      "32 \t 89.6\n",
      "33 \t 91.4\n",
      "34 \t 93.2\n",
      "35 \t 95.0\n",
      "36 \t 96.8\n",
      "37 \t 98.60000000000001\n",
      "38 \t 100.4\n",
      "39 \t 102.2\n",
      "40 \t 104.0\n",
      "41 \t 105.8\n",
      "42 \t 107.60000000000001\n",
      "43 \t 109.4\n",
      "44 \t 111.2\n",
      "45 \t 113.0\n",
      "46 \t 114.8\n",
      "47 \t 116.60000000000001\n",
      "48 \t 118.4\n",
      "49 \t 120.2\n",
      "50 \t 122.0\n",
      "51 \t 123.8\n",
      "52 \t 125.60000000000001\n",
      "53 \t 127.4\n",
      "54 \t 129.2\n",
      "55 \t 131.0\n",
      "56 \t 132.8\n",
      "57 \t 134.60000000000002\n",
      "58 \t 136.4\n",
      "59 \t 138.2\n",
      "60 \t 140.0\n",
      "61 \t 141.8\n",
      "62 \t 143.60000000000002\n",
      "63 \t 145.4\n",
      "64 \t 147.2\n",
      "65 \t 149.0\n",
      "66 \t 150.8\n",
      "67 \t 152.60000000000002\n",
      "68 \t 154.4\n",
      "69 \t 156.2\n",
      "70 \t 158.0\n",
      "71 \t 159.8\n",
      "72 \t 161.6\n",
      "73 \t 163.4\n",
      "74 \t 165.20000000000002\n",
      "75 \t 167.0\n",
      "76 \t 168.8\n",
      "77 \t 170.6\n",
      "78 \t 172.4\n",
      "79 \t 174.20000000000002\n",
      "80 \t 176.0\n",
      "81 \t 177.8\n",
      "82 \t 179.6\n",
      "83 \t 181.4\n",
      "84 \t 183.20000000000002\n",
      "85 \t 185.0\n",
      "86 \t 186.8\n",
      "87 \t 188.6\n",
      "88 \t 190.4\n",
      "89 \t 192.20000000000002\n",
      "90 \t 194.0\n",
      "91 \t 195.8\n",
      "92 \t 197.6\n",
      "93 \t 199.4\n",
      "94 \t 201.20000000000002\n",
      "95 \t 203.0\n",
      "96 \t 204.8\n",
      "97 \t 206.6\n",
      "98 \t 208.4\n",
      "99 \t 210.20000000000002\n"
     ]
    }
   ],
   "source": [
    "#implementing a Fahrenheit function that returns the Fahrenheit equivalent of a Celsius temperature\n",
    "for CelciusTemp in range(100):\n",
    "    farenheitTemp = (9/5) * CelciusTemp + 32\n",
    "    print(CelciusTemp, \"\\t\", farenheitTemp)"
   ]
  },
  {
   "cell_type": "markdown",
   "metadata": {},
   "source": [
    "# Task 4"
   ]
  },
  {
   "cell_type": "code",
   "execution_count": 8,
   "metadata": {},
   "outputs": [],
   "source": [
    "list = [1, 2, 3, 4, 5] #passing the list [1, 2, 3, 4, 5] as an argument\n",
    "# the function of task\n",
    "def mystery(x): \n",
    "    y = 0\n",
    "    for value in x:\n",
    "        y += value ** 2\n",
    "    return y"
   ]
  },
  {
   "cell_type": "code",
   "execution_count": 9,
   "metadata": {},
   "outputs": [
    {
     "data": {
      "text/plain": [
       "55"
      ]
     },
     "execution_count": 9,
     "metadata": {},
     "output_type": "execute_result"
    }
   ],
   "source": [
    "mystery(list) #calling mystery function"
   ]
  },
  {
   "cell_type": "markdown",
   "metadata": {},
   "source": [
    "# Task 5"
   ]
  },
  {
   "cell_type": "code",
   "execution_count": 10,
   "metadata": {},
   "outputs": [
    {
     "name": "stdout",
     "output_type": "stream",
     "text": [
      "False\n",
      "True\n"
     ]
    }
   ],
   "source": [
    "#What does the following function do, based on the sequence it receives as an argument?\n",
    "def mystery(sequence):\n",
    "    return sequence == sorted(sequence)\n",
    "# the sorted and unsortered lists\n",
    "list = [1, 36, 44, 17, 3 ]\n",
    "list1 = [1, 2, 3, 4, 5]\n",
    "#printing lists\n",
    "print(mystery(list))\n",
    "print(mystery(list1))"
   ]
  },
  {
   "cell_type": "markdown",
   "metadata": {},
   "source": [
    "# Task 6 "
   ]
  },
  {
   "cell_type": "code",
   "execution_count": 11,
   "metadata": {},
   "outputs": [
    {
     "name": "stdout",
     "output_type": "stream",
     "text": [
      "1 2 3 \n",
      "4 5 6 \n"
     ]
    }
   ],
   "source": [
    "#creating a 2-by-3 list, then using a nested loop\n",
    "values = [[1,2,3], [4,5,6]]\n",
    "for row in values:\n",
    "    for item in row:\n",
    "        print(item, end= ' ')\n",
    "    print()"
   ]
  },
  {
   "cell_type": "markdown",
   "metadata": {},
   "source": [
    "# Task 7 "
   ]
  },
  {
   "cell_type": "code",
   "execution_count": 12,
   "metadata": {},
   "outputs": [
    {
     "name": "stdout",
     "output_type": "stream",
     "text": [
      "abcdefghijklm\n",
      "abcdefghijklm\n",
      "nopqrstuvwxyz\n",
      "nopqrstuvwxyz\n"
     ]
    }
   ],
   "source": [
    "alphabet = 'abcdefghijklmnopqrstuvwxyz' #the alphabet \n",
    "# a The first half of the string using starting and ending indices\n",
    "print(alphabet[0:len(alphabet) // 2])\n",
    "\n",
    "#b  The first half of the string using only the ending index\n",
    "print(alphabet[:len(alphabet) // 2])\n",
    "\n",
    "#c  The second half of the string using starting and ending indices\n",
    "print(alphabet[len(alphabet) // 2: len(alphabet)])\n",
    "\n",
    "#d The second half of the string using only the starting index\n",
    "print(alphabet[len(alphabet) // 2 : ])"
   ]
  },
  {
   "cell_type": "code",
   "execution_count": 13,
   "metadata": {},
   "outputs": [
    {
     "name": "stdout",
     "output_type": "stream",
     "text": [
      "acegikmoqsuwy\n",
      "zyxwvutsrqponmlkjihgfedcba\n",
      "zwtqnkheb\n"
     ]
    }
   ],
   "source": [
    "#e Every second letter in the string starting with 'a'\n",
    "print(alphabet[::2])\n",
    "\n",
    "#f The entire string in reverse\n",
    "print(alphabet[::-1])\n",
    "\n",
    "#g Every third letter of the string in reverse starting with 'z'\n",
    "print(alphabet[::-3])"
   ]
  },
  {
   "cell_type": "markdown",
   "metadata": {},
   "source": [
    "# Task 8 "
   ]
  },
  {
   "cell_type": "code",
   "execution_count": 14,
   "metadata": {},
   "outputs": [
    {
     "name": "stdout",
     "output_type": "stream",
     "text": [
      "False\n",
      "True\n",
      "False\n",
      "True\n",
      "False\n"
     ]
    }
   ],
   "source": [
    "#checking sequence is sorted or not\n",
    "def is_ordered(sequence):\n",
    "    return sequence == sorted(sequence)\n",
    "\n",
    "# the sorted and unsorted lists, tuples and strings\n",
    "list = [1, 36, 44, 17, 3 ]\n",
    "list1 = [1, 2, 3, 4, 5]\n",
    "tuples = (\"a\", \"b\", \"c\")\n",
    "string = [\"ant\", \"bee\", \"cat\"]\n",
    "string1 = [\"cat\", \"ant\", \"bee\"]\n",
    "\n",
    "# printing the sorted and unsorted lists, tuples and strings\n",
    "print(is_ordered(list))\n",
    "print(is_ordered(list1))\n",
    "print(is_ordered(tuples))\n",
    "print(is_ordered(string))\n",
    "print(is_ordered(string1))"
   ]
  },
  {
   "cell_type": "markdown",
   "metadata": {},
   "source": [
    "# Task 9"
   ]
  },
  {
   "cell_type": "code",
   "execution_count": 15,
   "metadata": {},
   "outputs": [],
   "source": [
    "listoftuples = [ (\"Kuralay\", \"Makhmetova\"), (\"Albert\", \"Jones\"), (\"Mohhammed\", \"Ali\") ] # the list of tuples with first and last name\n",
    "#finding the people with last name \"Jones\"\n",
    "result = [item for item in listoftuples\n",
    "          if item[1] == 'Jones']"
   ]
  },
  {
   "cell_type": "code",
   "execution_count": 16,
   "metadata": {},
   "outputs": [
    {
     "name": "stdout",
     "output_type": "stream",
     "text": [
      "[('Albert', 'Jones')]\n"
     ]
    }
   ],
   "source": [
    "print(result) #printing the result"
   ]
  },
  {
   "cell_type": "markdown",
   "metadata": {},
   "source": [
    "# Task 10 "
   ]
  },
  {
   "cell_type": "code",
   "execution_count": 17,
   "metadata": {},
   "outputs": [
    {
     "name": "stdout",
     "output_type": "stream",
     "text": [
      "[20, 8, 4, 16, 12]\n"
     ]
    }
   ],
   "source": [
    "numbers = [10, 3, 7, 1, 9, 4, 2, 8, 5, 6] # declaring numbers\n",
    "list(map(lambda x: x * 2,\n",
    "         filter(lambda x: x % 2 == 0, numbers)))"
   ]
  },
  {
   "cell_type": "markdown",
   "metadata": {},
   "source": [
    "## Answer: if we reorder the code, it will throw error that demands at least two arguments, because of syntax"
   ]
  },
  {
   "cell_type": "code",
   "execution_count": null,
   "metadata": {},
   "outputs": [],
   "source": []
  }
 ],
 "metadata": {
  "kernelspec": {
   "display_name": "Python 3",
   "language": "python",
   "name": "python3"
  },
  "language_info": {
   "codemirror_mode": {
    "name": "ipython",
    "version": 3
   },
   "file_extension": ".py",
   "mimetype": "text/x-python",
   "name": "python",
   "nbconvert_exporter": "python",
   "pygments_lexer": "ipython3",
   "version": "3.8.8"
  }
 },
 "nbformat": 4,
 "nbformat_minor": 4
}
